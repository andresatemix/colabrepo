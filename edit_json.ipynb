{
  "nbformat": 4,
  "nbformat_minor": 0,
  "metadata": {
    "colab": {
      "provenance": [],
      "mount_file_id": "1RHSB79QwHtpO1BfujK4KL0CsqXVITECz",
      "authorship_tag": "ABX9TyOygE5NgRUYng/lJkQesm8l",
      "include_colab_link": true
    },
    "kernelspec": {
      "name": "python3",
      "display_name": "Python 3"
    },
    "language_info": {
      "name": "python"
    }
  },
  "cells": [
    {
      "cell_type": "markdown",
      "metadata": {
        "id": "view-in-github",
        "colab_type": "text"
      },
      "source": [
        "<a href=\"https://colab.research.google.com/github/andresatemix/colabrepo/blob/main/edit_json.ipynb\" target=\"_parent\"><img src=\"https://colab.research.google.com/assets/colab-badge.svg\" alt=\"Open In Colab\"/></a>"
      ]
    },
    {
      "cell_type": "markdown",
      "source": [
        "# Töö json failidega\n",
        "\n",
        "Katsetan kuidas redigeerida json faili pythonis. Tarvis läheb näiteks ignitioni tagide faili puhul."
      ],
      "metadata": {
        "id": "Tyv2ML7aEfLw"
      }
    },
    {
      "cell_type": "code",
      "execution_count": 1,
      "metadata": {
        "id": "YtkFe93d2x_N"
      },
      "outputs": [],
      "source": [
        "import numpy as np\n",
        "import json\n",
        "\n"
      ]
    },
    {
      "cell_type": "code",
      "source": [
        "data = {}\n",
        "data['test'] = True\n",
        "data['number'] = 1\n",
        "data['sub_obj'] = {'a': 1, 'b': 2}\n",
        "\n",
        "new_json = json.dumps(data, indent=2)\n",
        "print(new_json)"
      ],
      "metadata": {
        "colab": {
          "base_uri": "https://localhost:8080/"
        },
        "id": "BmmWrOqj3QDK",
        "outputId": "3f421d8d-5be3-4bb7-b827-44958ad4cf02"
      },
      "execution_count": 2,
      "outputs": [
        {
          "output_type": "stream",
          "name": "stdout",
          "text": [
            "{\n",
            "  \"test\": true,\n",
            "  \"number\": 1,\n",
            "  \"sub_obj\": {\n",
            "    \"a\": 1,\n",
            "    \"b\": 2\n",
            "  }\n",
            "}\n"
          ]
        }
      ]
    },
    {
      "cell_type": "code",
      "source": [
        "# failist lugemine\n",
        "with open('/content/drive/MyDrive/ColabSheets/kuka_tags.json', 'r') as f:\n",
        "  jdata = json.load(f)\n",
        "\n",
        "print(json.dumps(jdata, indent=2))\n",
        "#print(jdata.items())\n"
      ],
      "metadata": {
        "id": "9Szg0E_4DqjU"
      },
      "execution_count": null,
      "outputs": []
    },
    {
      "cell_type": "code",
      "source": [
        "# Tagide muutmine\n",
        "for tag in jdata['tags']:\n",
        "  #print(tag['opcItemPath'])\n",
        "  tag['opcItemPath'] = tag['opcItemPath'].replace(', ', ',')\n",
        "  #print(tag['opcItemPath'])\n",
        "  try: \n",
        "    #print(tag['alarms'][0]['mode'])\n",
        "    tag['alarms'][0]['mode'] = 'Inequality'\n",
        "    #print(tag['alarms'][0]['mode'])\n",
        "  except KeyError:\n",
        "    print('No alarms here')\n",
        "  \n",
        "  \n",
        "# Faili kirjutamine\n",
        "with open('data2.json', 'w') as f:\n",
        "  json.dump(jdata, f, indent=2)\n"
      ],
      "metadata": {
        "colab": {
          "base_uri": "https://localhost:8080/"
        },
        "id": "DN0Q2FFYNDgm",
        "outputId": "5b5c6ae4-4594-48ed-a70d-38404fde548a"
      },
      "execution_count": 4,
      "outputs": [
        {
          "output_type": "stream",
          "name": "stdout",
          "text": [
            "No alarms here\n",
            "No alarms here\n",
            "No alarms here\n",
            "No alarms here\n",
            "No alarms here\n",
            "No alarms here\n",
            "No alarms here\n",
            "No alarms here\n",
            "No alarms here\n",
            "No alarms here\n",
            "No alarms here\n",
            "No alarms here\n",
            "No alarms here\n",
            "No alarms here\n",
            "No alarms here\n",
            "No alarms here\n",
            "No alarms here\n",
            "No alarms here\n",
            "No alarms here\n",
            "No alarms here\n",
            "No alarms here\n"
          ]
        }
      ]
    }
  ]
}